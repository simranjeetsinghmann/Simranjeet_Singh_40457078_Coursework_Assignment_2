{
 "cells": [
  {
   "cell_type": "markdown",
   "id": "fc2a4622-fcbc-4d90-b488-9b16f9e44165",
   "metadata": {},
   "source": [
    "# Q1 \n",
    "\n"
   ]
  },
  {
   "cell_type": "markdown",
   "id": "9c3f85d0-aa4b-4804-8b44-b2b344c6262f",
   "metadata": {},
   "source": [
    "# Answer1\n"
   ]
  },
  {
   "cell_type": "markdown",
   "id": "8321dedb-ffae-4c2a-90aa-1f328368e43b",
   "metadata": {},
   "source": [
    "1. The prog_score function calculates and classifies a patient's risk level based on three input parameters: biomarker_A, stage, and age.\n",
    "\n",
    "2. It begins by validating the input values:\n",
    "   - biomarker_A must be between 0.5 and 11.2.\n",
    "   - stage must be one of 'I', 'II', 'III', or 'IV'.\n",
    "   - age must be between 25 and 75.\n",
    "   \n",
    "3. If any input is invalid, a ValueError is raised with a specific error message.\n",
    "\n",
    "4. The function defines an inner function score_cal to calculate the patient's score:\n",
    "   - The score is calculated by dividing biomarker_A by age.\n",
    "   - Based on the stage, the score is adjusted:\n",
    "     - For stage 'I' or 'II', 1 is added to the score.\n",
    "     - For stage 'III' or 'IV', 10 is added to the score.\n",
    "\n",
    "5. After calculating the score, the function classifies the patient into \"High risk\" or \"Low risk\":\n",
    "   - If the score is greater than 6.185, the patient is classified as high risk.\n",
    "   - Otherwise, the patient is classified as low risk.\n",
    "\n",
    "6. The function handles multiple exceptions:\n",
    "   - ValueError for invalid input values.\n",
    "   - ZeroDivisionError if age is zero (although not likely given input constraints).\n",
    "   - A general exception handler for unexpected errors.\n",
    "\n",
    "7. If any error occurs, an appropriate error message is returned, indicating the issue."
   ]
  },
  {
   "cell_type": "code",
   "execution_count": 2,
   "id": "f74a3083-122b-4d04-9647-3a17979ecc89",
   "metadata": {},
   "outputs": [
    {
     "name": "stdout",
     "output_type": "stream",
     "text": [
      "Low risk (Score: 1.200)\n",
      "Input Error: Biomarker A must be a number.\n",
      "Input Error: Stage must be one of 'I', 'II', 'III', or 'IV'.\n",
      "Input Error: Age must be a number.\n"
     ]
    }
   ],
   "source": [
    "def prog_score(biomarker_A, stage, age): \n",
    "    \"\"\"\n",
    "    Calculates a cancer prognostic score using three parameters, with input validation \n",
    "    and exception handling to stratify patients into high or low risk groups.\n",
    "    \n",
    "    Args:\n",
    "        biomarker_A (float): Value of biomarker A (range 0.5 to 11.2).\n",
    "        stage (str): Cancer stage (\"I\", \"II\", \"III\", or \"IV\").\n",
    "        age (int/float): Age of the patient (range 25 to 75).\n",
    "        \n",
    "    Returns:\n",
    "        str: Risk group ('High risk' or 'Low risk') and the score, or error message for invalid input.\n",
    "    \"\"\"\n",
    "    # Validation of input types and values\n",
    "    try:\n",
    "        # Check that biomarker_A and age are numbers\n",
    "        if not (isinstance(biomarker_A, (int, float))):\n",
    "            raise TypeError(\"Biomarker A must be a number.\")\n",
    "        if not (isinstance(age, (int, float))):\n",
    "            raise TypeError(\"Age must be a number.\")\n",
    "        # Check value ranges\n",
    "        if not (0.5 <= biomarker_A <= 11.2):\n",
    "            raise ValueError(\"Biomarker A value must be between 0.5 and 11.2.\")\n",
    "        if stage not in ['I', 'II', 'III', 'IV']:\n",
    "            raise ValueError(\"Stage must be one of 'I', 'II', 'III', or 'IV'.\")\n",
    "        if not (25 <= age <= 75):\n",
    "            raise ValueError(\"Age must be between 25 and 75.\")\n",
    "        if age == 0:\n",
    "            raise ZeroDivisionError(\"Age cannot be zero.\")\n",
    "\n",
    "        # Inner function for score calculation\n",
    "        def score_cal(biomarker_A, stage, age):    \n",
    "            score = biomarker_A / age\n",
    "            if stage in [\"I\", \"II\"]:\n",
    "                score += 1\n",
    "            else:  # For \"III\", \"IV\"\n",
    "                score += 10\n",
    "            return score\n",
    "\n",
    "        patient_score = score_cal(biomarker_A, stage, age)\n",
    "\n",
    "        # Sorting into risk groups\n",
    "        if patient_score > 6.185:\n",
    "            return f\"High risk (Score: {patient_score:.3f})\"\n",
    "        else:\n",
    "            return f\"Low risk (Score: {patient_score:.3f})\"\n",
    "    \n",
    "    # Error handling\n",
    "    except TypeError as te:\n",
    "        return f\"Input Error: {te}\"\n",
    "    except ValueError as ve:      \n",
    "        return f\"Input Error: {ve}\"\n",
    "    except ZeroDivisionError as zde:\n",
    "        return f\"Calculation Error: {zde}\"\n",
    "    except Exception as e:\n",
    "        return f\"Unexpected Error: {e}\"\n",
    "\n",
    "# Example call\n",
    "print(prog_score(8, \"I\", 40))\n",
    "print(prog_score(\"8\", \"I\", 40))  # Should trigger type error\n",
    "print(prog_score(8, \"V\", 40))    # Should trigger stage error\n",
    "print(prog_score(8, \"I\", \"twenty\"))  # Should trigger type error\n"
   ]
  },
  {
   "cell_type": "markdown",
   "id": "7d8a831e-4ba6-4a31-a337-20cf2c8cec4e",
   "metadata": {},
   "source": [
    "# Q2 \n"
   ]
  },
  {
   "cell_type": "markdown",
   "id": "d3378776-5e94-4c3c-bf99-51f3a6015145",
   "metadata": {},
   "source": [
    "# Answer2\n",
    "\n",
    "1. The script loads a DNA sequence from a FASTA file given by user, ignoring the header and combining the sequence lines into one string.\n",
    "2. It counts the restriction sites for the enzymes EcoRI and HindIII by searching for their recognition sequences in the DNA.\n",
    "3. After counting the sites, the script identifies which enzyme cuts more frequently.\n",
    "4. Based on the enzyme with the highest count, it counts additional restriction sites for other enzymes: BamHI and XhoI for EcoRI, and PstI and NotI for HindIII.\n",
    "5. The script simulates digestion by determining where the enzymes cut the DNA sequence, producing fragments of varying sizes.\n",
    "6. Fragment sizes are filtered to include only those less than or equal to 2000 base pairs.\n",
    "7. A histogram is generated to display the distribution of these fragment sizes.\n",
    "8. The user is prompted to input the file path for the FASTA file.\n",
    "9. Results are output through printed statements showing enzyme counts and a histogram visualization of fragment sizes."
   ]
  },
  {
   "cell_type": "code",
   "execution_count": 5,
   "id": "88184616-6816-4f20-8c5d-40fb57017dc0",
   "metadata": {},
   "outputs": [
    {
     "name": "stdin",
     "output_type": "stream",
     "text": [
      "Enter the path to your FASTA file:  chr21.fasta\n"
     ]
    },
    {
     "name": "stdout",
     "output_type": "stream",
     "text": [
      "EcoRI sites: 5587\n",
      "HindIII sites: 6276\n",
      "The enzyme that cuts more often is: HindIII\n",
      "PstI sites: 9914\n",
      "NotI sites: 138\n"
     ]
    },
    {
     "data": {
      "image/png": "[encoded data removed]",
      "text/plain": [
       "<Figure size 640x480 with 1 Axes>"
      ]
     },
     "metadata": {},
     "output_type": "display_data"
    }
   ],
   "source": [
    "import re\n",
    "import matplotlib.pyplot as plt\n",
    "\n",
    "# Function to load DNA sequence from a FASTA file\n",
    "def fasta_file(path_file):\n",
    "    try:\n",
    "        with open(path_file, 'r') as file:\n",
    "            lines = file.readlines()\n",
    "        # Ignoring the header (first line) and joining the rest to form the sequence\n",
    "        return ''.join(line.strip() for line in lines[1:])  # Excluding the header (line 0)\n",
    "    except FileNotFoundError:\n",
    "        print(f\"Error: The file {path_file} was not found.\")\n",
    "        return None\n",
    "\n",
    "# Function to count restriction sites for specific enzymes\n",
    "def site_count(sequence, enzyme_sites):\n",
    "    enzyme_counts = {}\n",
    "    for enzyme, site in enzyme_sites.items():\n",
    "        enzyme_counts[enzyme] = len(re.findall(site, sequence))\n",
    "    return enzyme_counts\n",
    "\n",
    "# Function to determine which enzyme has the most restriction sites\n",
    "def determine_highest_enzyme(enzyme_counts):\n",
    "    if enzyme_counts['EcoRI'] > enzyme_counts['HindIII']:\n",
    "        return 'EcoRI'\n",
    "    else:\n",
    "        return 'HindIII'\n",
    "\n",
    "# Function to count additional restriction sites based on the enzyme with the highest count\n",
    "def count_additional_sites(sequence, highest_enzyme):\n",
    "    if highest_enzyme == 'EcoRI':\n",
    "        additional_enzymes = {'BamHI': 'GGATCC', 'XhoI': 'CTCGAG'}\n",
    "    else:\n",
    "        additional_enzymes = {'PstI': 'CTGCAG', 'NotI': 'GCGGCCGC'}\n",
    "    \n",
    "    return site_count(sequence, additional_enzymes)\n",
    "\n",
    "# Updated simulate digestion function\n",
    "def simulate_digestion(sequence, enzymes):\n",
    "    cut_positions = []\n",
    "    for enzyme, site in enzymes.items():\n",
    "        cut_positions += [m.start() for m in re.finditer(site, sequence)]\n",
    "    cut_positions = sorted(set(cut_positions))  # Sort and remove duplicates\n",
    "    \n",
    "    fragments = []\n",
    "    previous_cut = 0\n",
    "    for cut in cut_positions:\n",
    "        fragments.append(cut - previous_cut)\n",
    "        previous_cut = cut\n",
    "    fragments.append(len(sequence) - previous_cut)\n",
    "    \n",
    "    return fragments\n",
    "\n",
    "# Function to plot histogram of fragment sizes <= 2000bp\n",
    "def plot_histogram(fragment_sizes):\n",
    "    filtered_sizes = [size for size in fragment_sizes if size <= 2000]\n",
    "    if not filtered_sizes:\n",
    "        print(\"No fragment sizes ≤ 2000 bp to plot.\")\n",
    "        return\n",
    "    \n",
    "    # Plotting the histogram\n",
    "    plt.hist(filtered_sizes, bins=30, edgecolor='black')\n",
    "    plt.xlabel('Fragment Size (bp)')\n",
    "    plt.ylabel('Frequency')\n",
    "    plt.title('Distribution of DNA Fragment Sizes ≤ 2000bp')\n",
    "    plt.show()\n",
    "\n",
    "# Main analysis function\n",
    "def analyze_sequence(sequence):\n",
    "    # Restriction sites for EcoRI and HindIII\n",
    "    enzyme_sites = {\n",
    "        'EcoRI': 'GAATTC',\n",
    "        'HindIII': 'AAGCTT'\n",
    "    }\n",
    "    \n",
    "    # Counting initial restriction sites\n",
    "    enzyme_counts = site_count(sequence, enzyme_sites)\n",
    "    \n",
    "    print(f\"EcoRI sites: {enzyme_counts['EcoRI']}\")\n",
    "    print(f\"HindIII sites: {enzyme_counts['HindIII']}\")\n",
    "    \n",
    "    # Determining which enzyme cuts more often\n",
    "    highest_enzyme = determine_highest_enzyme(enzyme_counts)\n",
    "    print(f\"The enzyme that cuts more often is: {highest_enzyme}\")\n",
    "    \n",
    "    # Counting additional restriction sites for the chosen enzyme\n",
    "    additional_sites = count_additional_sites(sequence, highest_enzyme)\n",
    "    if highest_enzyme == 'EcoRI':\n",
    "        print(f\"BamHI sites: {additional_sites['BamHI']}\")\n",
    "        print(f\"XhoI sites: {additional_sites['XhoI']}\")\n",
    "    else:\n",
    "        print(f\"PstI sites: {additional_sites['PstI']}\")\n",
    "        print(f\"NotI sites: {additional_sites['NotI']}\")\n",
    "    \n",
    "    # Define enzymes to use based on the highest enzyme\n",
    "    enzymes_to_use = {}\n",
    "    if highest_enzyme == 'EcoRI':\n",
    "        enzymes_to_use = {'BamHI': 'GGATCC', 'XhoI': 'CTCGAG'}\n",
    "    else:\n",
    "        enzymes_to_use = {'PstI': 'CTGCAG', 'NotI': 'GCGGCCGC'}\n",
    "    \n",
    "    # Simulating digestion\n",
    "    fragment_sizes = simulate_digestion(sequence, enzymes_to_use)\n",
    "    \n",
    "    # Plot histogram of fragment sizes\n",
    "    plot_histogram(fragment_sizes)\n",
    "\n",
    "# Main program: Taking file path as input from the user\n",
    "def main():\n",
    "    path_file = input(\"Enter the path to your FASTA file: \").strip()\n",
    "    \n",
    "    # Loading the DNA sequence from the provided FASTA file\n",
    "    sequence = fasta_file(path_file)\n",
    "    \n",
    "    if sequence:\n",
    "        # Analyzing the loaded DNA sequence\n",
    "        analyze_sequence(sequence)\n",
    "\n",
    "if __name__ == \"__main__\":\n",
    "    main()\n",
    "\n"
   ]
  },
  {
   "cell_type": "markdown",
   "id": "127b8a0f-7fc3-4062-81d2-1e6cd096f61c",
   "metadata": {},
   "source": [
    "# Q3"
   ]
  },
  {
   "cell_type": "markdown",
   "id": "ef83a019-14b2-4aed-bd3f-3973460c544f",
   "metadata": {},
   "source": [
    "# Answer3\n",
    "\n",
    "This Python script is designed to clean, process, and analyze clinical and protein data from two separate CSV files. It integrates various functionalities such as data merging, summary generation, plotting, missing value handling, and exporting cleaned data. Here's a step-by-step breakdown of how the script works:\n",
    "\n",
    "1. **Loading the Data**: \n",
    "   The script loads clinical and protein data from two CSV files using the pandas library. These files are assumed to contain a common column (tissue_source_site), which is used for merging the datasets into a single dataframe.\n",
    "\n",
    "2. **Merging the Data**: \n",
    "   The clinical and protein data are merged using an inner join on the tissue_source_site column, ensuring that only rows with matching entries in both datasets are kept.\n",
    "\n",
    "3. **Exporting Data**: \n",
    "   After the data is processed, the export_data() function prompts the user to select a file format (csv or txt) for saving the merged data. Based on the user's input, the data is saved in the chosen format.\n",
    "\n",
    "4. **Summary of Selected Attributes**: \n",
    "   The attribute_summary() function allows the user to select at least two attributes (columns) from the merged dataset. It then generates and prints summary statistics (such as count, mean, standard deviation, etc.) for the selected attributes.\n",
    "\n",
    "5. **Plotting Data**: \n",
    "   The create_plot() function allows the user to choose two attributes for creating a scatter plot. It generates a scatter plot using matplotlib, displaying the relationship between the two selected attributes. The user is prompted to input the attribute names, and the plot is displayed with labels and a legend.\n",
    "\n",
    "6. **Missing Values Report**: \n",
    "   The missing_values_report() function provides an overview of missing values in the dataset. It calculates and prints the percentage of missing values by attribute and by patient. This helps to identify columns or patients with substantial missing data.\n",
    "\n",
    "7. **Handling Missing Data**: \n",
    "   The remove_missing_data() function allows the user to define a threshold for how many missing values are acceptable for each patient. Patients who exceed the tolerance for missing values are removed from the dataset, and the number of removed patients is displayed. This step helps to clean the data by excluding samples with excessive missing information.\n",
    "\n",
    "8. **Re-exporting Cleaned Data**: \n",
    "   After removing samples with excessive missing values, the script re-exports the cleaned dataset in the chosen file format.\n",
    "\n",
    "Overall, this script offers an approach to handle clinical and protein data by providing functionalities for data cleaning, analysis, visualization, and export. It allows users to efficiently manage missing data, generate summaries, and explore relationships between different attributes in the dataset."
   ]
  },
  {
   "cell_type": "code",
   "execution_count": 7,
   "id": "31bb356b-9af1-4cf6-ac9b-9da66a552885",
   "metadata": {},
   "outputs": [
    {
     "name": "stdout",
     "output_type": "stream",
     "text": [
      "Collecting pandas\n",
      "  Downloading pandas-2.3.3-cp312-cp312-manylinux_2_24_x86_64.manylinux_2_28_x86_64.whl.metadata (91 kB)\n",
      "Requirement already satisfied: numpy>=1.26.0 in /home/simran/miniforge3/lib/python3.12/site-packages (from pandas) (2.3.3)\n",
      "Requirement already satisfied: python-dateutil>=2.8.2 in /home/simran/miniforge3/lib/python3.12/site-packages (from pandas) (2.9.0.post0)\n",
      "Requirement already satisfied: pytz>=2020.1 in /home/simran/miniforge3/lib/python3.12/site-packages (from pandas) (2025.2)\n",
      "Collecting tzdata>=2022.7 (from pandas)\n",
      "  Downloading tzdata-2025.2-py2.py3-none-any.whl.metadata (1.4 kB)\n",
      "Requirement already satisfied: six>=1.5 in /home/simran/miniforge3/lib/python3.12/site-packages (from python-dateutil>=2.8.2->pandas) (1.17.0)\n",
      "Downloading pandas-2.3.3-cp312-cp312-manylinux_2_24_x86_64.manylinux_2_28_x86_64.whl (12.4 MB)\n",
      "\u001b[2K   \u001b[90m━━━━━━━━━━━━━━━━━━━━━━━━━━━━━━━━━━━━━━━━\u001b[0m \u001b[32m12.4/12.4 MB\u001b[0m \u001b[31m40.9 MB/s\u001b[0m eta \u001b[36m0:00:00\u001b[0m \u001b[36m0:00:01\u001b[0m\n",
      "\u001b[?25hDownloading tzdata-2025.2-py2.py3-none-any.whl (347 kB)\n",
      "Installing collected packages: tzdata, pandas\n",
      "Successfully installed pandas-2.3.3 tzdata-2025.2\n",
      "Merged data shape: (724, 277)\n"
     ]
    },
    {
     "name": "stdin",
     "output_type": "stream",
     "text": [
      "Enter export format (csv/txt):  csv\n"
     ]
    },
    {
     "name": "stdout",
     "output_type": "stream",
     "text": [
      "Exported to merged_data.csv\n",
      "Available columns: ['patient_barcode', 'tissue_source_site_x', 'patient_id_x', 'case_id', 'days_to_birth', 'days_to_death', 'ethnicity', 'gender', 'race', 'vital_status', 'year_of_birth', 'year_of_death', 'age_at_diagnosis', 'ajcc_pathologic_m', 'ajcc_pathologic_n', 'ajcc_pathologic_stage', 'ajcc_pathologic_t', 'ajcc_staging_system_edition', 'days_to_diagnosis', 'days_to_last_follow_up', 'icd_10_code', 'last_known_disease_status', 'morphology', 'primary_diagnosis', 'prior_malignancy', 'prior_treatment', 'progression_or_recurrence', 'site_of_resection_or_biopsy', 'synchronous_malignancy', 'tissue_or_organ_of_origin', 'tumor_grade', 'year_of_diagnosis', 'treatment_or_therapy', 'treatment_type', 'Sample_ID', 'tissue_source_site_y', 'patient_id_y', 'Cancer_Type', 'Sample_Type', 'SetID', 'X1433EPSILON', 'X4EBP1', 'X4EBP1_pS65', 'X4EBP1_pT37T46', 'X53BP1', 'ACC_pS79', 'ACC1', 'AKT', 'AKT_pS473', 'AKT_pT308', 'AMPKALPHA', 'AMPKALPHA_pT172', 'AR', 'ASNS', 'ATM', 'BAK', 'BAX', 'BCL2', 'BCLXL', 'BECLIN', 'BETACATENIN', 'BID', 'BIM', 'CJUN_pS73', 'CKIT', 'CMET_pY1235', 'CMYC', 'CRAF', 'CRAF_pS338', 'CASPASE7CLEAVEDD198', 'CAVEOLIN1', 'CD31', 'CD49B', 'CDK1', 'CHK1', 'CHK1_pS345', 'CHK2', 'CHK2_pT68', 'CIAP', 'CLAUDIN7', 'COLLAGENVI', 'CYCLINB1', 'CYCLIND1', 'CYCLINE1', 'DJ1', 'DVL3', 'ECADHERIN', 'EEF2', 'EEF2K', 'EGFR', 'EGFR_pY1068', 'EGFR_pY1173', 'EIF4E', 'ERALPHA', 'ERALPHA_pS118', 'ERK2', 'FIBRONECTIN', 'FOXO3A', 'GAB2', 'GATA3', 'GSK3ALPHABETA', 'GSK3ALPHABETA_pS21S9', 'HER2', 'HER2_pY1248', 'HER3', 'HER3_pY1289', 'HSP70', 'IGFBP2', 'INPP4B', 'IRS1', 'JNK_pT183Y185', 'JNK2', 'KU80', 'LCK', 'LKB1', 'MAPK_pT202Y204', 'MEK1', 'MEK1_pS217S221', 'MIG6', 'MRE11', 'MTOR', 'MTOR_pS2448', 'NCADHERIN', 'NFKBP65_pS536', 'NF2', 'NOTCH1', 'PCADHERIN', 'P27', 'P27_pT157', 'P38MAPK', 'P38_pT180Y182', 'P53', 'P70S6K1', 'P70S6K_pT389', 'P90RSK_pT359S363', 'PAI1', 'PAXILLIN', 'PCNA', 'PDK1_pS241', 'PEA15', 'PI3KP110ALPHA', 'PKCALPHA', 'PKCALPHA_pS657', 'PKCDELTA_pS664', 'PR', 'PRAS40_pT246', 'PTEN', 'RAD50', 'RAD51', 'RB_pS807S811', 'S6', 'S6_pS235S236', 'S6_pS240S244', 'SHC_pY317', 'SMAD1', 'SMAD3', 'SMAD4', 'SRC', 'SRC_pY416', 'SRC_pY527', 'STAT3_pY705', 'STAT5ALPHA', 'STATHMIN', 'SYK', 'TUBERIN', 'VEGFR2', 'XRCC1', 'YAP', 'YAP_pS127', 'YB1', 'YB1_pS102', 'X4EBP1_pT70', 'ARAF_pS299', 'ANNEXINVII', 'ARID1A', 'BRAF', 'BAD_pS112', 'BAP1C4', 'BRCA2', 'CD20', 'CYCLINE2', 'ETS1', 'EIF4G', 'FASN', 'FOXO3A_pS318S321', 'FOXM1', 'G6PD', 'GAPDH', 'GSK3_pS9', 'HEREGULIN', 'MYH11', 'MYOSINIIA_pS1943', 'NRAS', 'NDRG1_pT346', 'P21', 'P27_pT198', 'P90RSK', 'PDCD4', 'PDK1', 'PEA15_pS116', 'PI3KP85', 'PKCPANBETAII_pS660', 'PRDX1', 'RAB11', 'RAB25', 'RAPTOR', 'RBM15', 'RICTOR', 'RICTOR_pT1135', 'SCD1', 'SF2', 'TAZ', 'TIGAR', 'TRANSGLUTAMINASE', 'TFRC', 'TSC1', 'TUBERIN_pT1462', 'EPPK1', 'XBP1', 'ACETYLATUBULINLYS40', 'P62LCKLIGAND', 'X1433BETA', 'X1433ZETA', 'ACVRL1', 'DIRAS3', 'ANNEXIN1', 'PREX1', 'ADAR1', 'JAB1', 'CMET', 'CASPASE8', 'ERCC1', 'MSH2', 'MSH6', 'PARPCLEAVED', 'RB', 'SETD2', 'SMAC', 'SNAIL', 'AXL', 'GATA6', 'BRD4', 'CDK1_pY15', 'ARAF', 'BRAF_pS445', 'BCL2A1', 'CABL', 'CASPASE3', 'CD26', 'CHK1_pS296', 'COG3', 'DUSP4', 'ERCC5', 'IGF1R_pY1135Y1136', 'IRF1', 'JAK2', 'P16INK4A', 'SHP2_pY542', 'PDL1', 'CTLA4', 'PDCD1', 'CASPASE9', 'E2F1', 'EZH2', 'KEAP1', 'LCN2A', 'MACC1', 'NRF2', 'PARPAB3', 'THYMIDILATESYNTHASE', 'TTF1', 'CHROMOGRANINANTERM', 'CK5', 'NAPSINA', 'P63', 'RET_pY905', 'SYNAPTOPHYSIN']\n"
     ]
    },
    {
     "name": "stdin",
     "output_type": "stream",
     "text": [
      "Enter at least two attributes separated by comma:  CIAP, MTOR\n"
     ]
    },
    {
     "name": "stdout",
     "output_type": "stream",
     "text": [
      "             CIAP        MTOR\n",
      "count  724.000000  724.000000\n",
      "mean    -0.002972   -0.050760\n",
      "std      0.197227    0.271621\n",
      "min     -0.468270   -1.557300\n",
      "25%     -0.124060   -0.185040\n",
      "50%     -0.030347   -0.043884\n",
      "75%      0.099206    0.118390\n",
      "max      0.819800    0.715900\n",
      "Available columns: ['patient_barcode', 'tissue_source_site_x', 'patient_id_x', 'case_id', 'days_to_birth', 'days_to_death', 'ethnicity', 'gender', 'race', 'vital_status', 'year_of_birth', 'year_of_death', 'age_at_diagnosis', 'ajcc_pathologic_m', 'ajcc_pathologic_n', 'ajcc_pathologic_stage', 'ajcc_pathologic_t', 'ajcc_staging_system_edition', 'days_to_diagnosis', 'days_to_last_follow_up', 'icd_10_code', 'last_known_disease_status', 'morphology', 'primary_diagnosis', 'prior_malignancy', 'prior_treatment', 'progression_or_recurrence', 'site_of_resection_or_biopsy', 'synchronous_malignancy', 'tissue_or_organ_of_origin', 'tumor_grade', 'year_of_diagnosis', 'treatment_or_therapy', 'treatment_type', 'Sample_ID', 'tissue_source_site_y', 'patient_id_y', 'Cancer_Type', 'Sample_Type', 'SetID', 'X1433EPSILON', 'X4EBP1', 'X4EBP1_pS65', 'X4EBP1_pT37T46', 'X53BP1', 'ACC_pS79', 'ACC1', 'AKT', 'AKT_pS473', 'AKT_pT308', 'AMPKALPHA', 'AMPKALPHA_pT172', 'AR', 'ASNS', 'ATM', 'BAK', 'BAX', 'BCL2', 'BCLXL', 'BECLIN', 'BETACATENIN', 'BID', 'BIM', 'CJUN_pS73', 'CKIT', 'CMET_pY1235', 'CMYC', 'CRAF', 'CRAF_pS338', 'CASPASE7CLEAVEDD198', 'CAVEOLIN1', 'CD31', 'CD49B', 'CDK1', 'CHK1', 'CHK1_pS345', 'CHK2', 'CHK2_pT68', 'CIAP', 'CLAUDIN7', 'COLLAGENVI', 'CYCLINB1', 'CYCLIND1', 'CYCLINE1', 'DJ1', 'DVL3', 'ECADHERIN', 'EEF2', 'EEF2K', 'EGFR', 'EGFR_pY1068', 'EGFR_pY1173', 'EIF4E', 'ERALPHA', 'ERALPHA_pS118', 'ERK2', 'FIBRONECTIN', 'FOXO3A', 'GAB2', 'GATA3', 'GSK3ALPHABETA', 'GSK3ALPHABETA_pS21S9', 'HER2', 'HER2_pY1248', 'HER3', 'HER3_pY1289', 'HSP70', 'IGFBP2', 'INPP4B', 'IRS1', 'JNK_pT183Y185', 'JNK2', 'KU80', 'LCK', 'LKB1', 'MAPK_pT202Y204', 'MEK1', 'MEK1_pS217S221', 'MIG6', 'MRE11', 'MTOR', 'MTOR_pS2448', 'NCADHERIN', 'NFKBP65_pS536', 'NF2', 'NOTCH1', 'PCADHERIN', 'P27', 'P27_pT157', 'P38MAPK', 'P38_pT180Y182', 'P53', 'P70S6K1', 'P70S6K_pT389', 'P90RSK_pT359S363', 'PAI1', 'PAXILLIN', 'PCNA', 'PDK1_pS241', 'PEA15', 'PI3KP110ALPHA', 'PKCALPHA', 'PKCALPHA_pS657', 'PKCDELTA_pS664', 'PR', 'PRAS40_pT246', 'PTEN', 'RAD50', 'RAD51', 'RB_pS807S811', 'S6', 'S6_pS235S236', 'S6_pS240S244', 'SHC_pY317', 'SMAD1', 'SMAD3', 'SMAD4', 'SRC', 'SRC_pY416', 'SRC_pY527', 'STAT3_pY705', 'STAT5ALPHA', 'STATHMIN', 'SYK', 'TUBERIN', 'VEGFR2', 'XRCC1', 'YAP', 'YAP_pS127', 'YB1', 'YB1_pS102', 'X4EBP1_pT70', 'ARAF_pS299', 'ANNEXINVII', 'ARID1A', 'BRAF', 'BAD_pS112', 'BAP1C4', 'BRCA2', 'CD20', 'CYCLINE2', 'ETS1', 'EIF4G', 'FASN', 'FOXO3A_pS318S321', 'FOXM1', 'G6PD', 'GAPDH', 'GSK3_pS9', 'HEREGULIN', 'MYH11', 'MYOSINIIA_pS1943', 'NRAS', 'NDRG1_pT346', 'P21', 'P27_pT198', 'P90RSK', 'PDCD4', 'PDK1', 'PEA15_pS116', 'PI3KP85', 'PKCPANBETAII_pS660', 'PRDX1', 'RAB11', 'RAB25', 'RAPTOR', 'RBM15', 'RICTOR', 'RICTOR_pT1135', 'SCD1', 'SF2', 'TAZ', 'TIGAR', 'TRANSGLUTAMINASE', 'TFRC', 'TSC1', 'TUBERIN_pT1462', 'EPPK1', 'XBP1', 'ACETYLATUBULINLYS40', 'P62LCKLIGAND', 'X1433BETA', 'X1433ZETA', 'ACVRL1', 'DIRAS3', 'ANNEXIN1', 'PREX1', 'ADAR1', 'JAB1', 'CMET', 'CASPASE8', 'ERCC1', 'MSH2', 'MSH6', 'PARPCLEAVED', 'RB', 'SETD2', 'SMAC', 'SNAIL', 'AXL', 'GATA6', 'BRD4', 'CDK1_pY15', 'ARAF', 'BRAF_pS445', 'BCL2A1', 'CABL', 'CASPASE3', 'CD26', 'CHK1_pS296', 'COG3', 'DUSP4', 'ERCC5', 'IGF1R_pY1135Y1136', 'IRF1', 'JAK2', 'P16INK4A', 'SHP2_pY542', 'PDL1', 'CTLA4', 'PDCD1', 'CASPASE9', 'E2F1', 'EZH2', 'KEAP1', 'LCN2A', 'MACC1', 'NRF2', 'PARPAB3', 'THYMIDILATESYNTHASE', 'TTF1', 'CHROMOGRANINANTERM', 'CK5', 'NAPSINA', 'P63', 'RET_pY905', 'SYNAPTOPHYSIN']\n"
     ]
    },
    {
     "name": "stdin",
     "output_type": "stream",
     "text": [
      "Enter two attributes for scatter plot separated by comma:  CIAP, MTOR\n"
     ]
    },
    {
     "data": {
      "image/png": "[encoded data removed]",
      "text/plain": [
       "<Figure size 640x480 with 1 Axes>"
      ]
     },
     "metadata": {},
     "output_type": "display_data"
    },
    {
     "name": "stdout",
     "output_type": "stream",
     "text": [
      "Missing values percentage per attribute:\n",
      "patient_barcode          0.000000\n",
      "tissue_source_site_x     0.000000\n",
      "patient_id_x             0.000000\n",
      "case_id                  0.000000\n",
      "days_to_birth            5.801105\n",
      "                          ...    \n",
      "CK5                     35.359116\n",
      "NAPSINA                 35.359116\n",
      "P63                     35.359116\n",
      "RET_pY905               35.359116\n",
      "SYNAPTOPHYSIN           35.359116\n",
      "Length: 277, dtype: float64\n",
      "Missing values percentage per patient:\n",
      "0      8.303249\n",
      "1      8.303249\n",
      "2      8.303249\n",
      "3      8.303249\n",
      "4      0.722022\n",
      "         ...   \n",
      "719    0.361011\n",
      "720    0.361011\n",
      "721    0.361011\n",
      "722    0.722022\n",
      "723    0.722022\n",
      "Length: 724, dtype: float64\n"
     ]
    },
    {
     "name": "stdin",
     "output_type": "stream",
     "text": [
      "Enter maximum number or percentage (e.g. 10 or 10%) missing attributes allowed per patient:  10\n"
     ]
    },
    {
     "name": "stdout",
     "output_type": "stream",
     "text": [
      "Removed 256 samples with missing attributes exceeding threshold.\n"
     ]
    },
    {
     "name": "stdin",
     "output_type": "stream",
     "text": [
      "Enter export format (csv/txt):  csv\n"
     ]
    },
    {
     "name": "stdout",
     "output_type": "stream",
     "text": [
      "Exported to merged_data.csv\n"
     ]
    }
   ],
   "source": [
    "\n",
    "import pandas as pd\n",
    "import matplotlib.pyplot as plt\n",
    "\n",
    "def clean_and_process_data():\n",
    "    clinical_file = \"Q3_TCGA_LUAD_Clinical.csv\"\n",
    "    protein_file = \"Q3_TCGA_LUAD_protein.csv\"\n",
    "\n",
    "    df_clinical = pd.read_csv(clinical_file)\n",
    "    df_protein = pd.read_csv(protein_file)\n",
    "\n",
    "    # Create patient_barcode in protein dataset by extracting from Sample_ID (take first 12 characters)\n",
    "    # Usually patient barcode is first 12 chars of Sample_ID e.g. TCGA-2HA9GF\n",
    "    df_protein['patient_barcode'] = df_protein['Sample_ID'].str[:12]\n",
    "\n",
    "    # Merge on patient_barcode (common patients only)\n",
    "    merged_df = pd.merge(df_clinical, df_protein, on='patient_barcode', how='inner')\n",
    "\n",
    "    print(f\"Merged data shape: {merged_df.shape}\")\n",
    "\n",
    "    def export_data(df):\n",
    "        file_type = input(\"Enter export format (csv/txt): \").strip().lower()\n",
    "        if file_type == 'csv':\n",
    "            df.to_csv(\"merged_data.csv\", index=False)\n",
    "            print(\"Exported to merged_data.csv\")\n",
    "        elif file_type == 'txt':\n",
    "            df.to_csv(\"merged_data.txt\", sep='\\t', index=False)\n",
    "            print(\"Exported to merged_data.txt\")\n",
    "        else:\n",
    "            print(\"Invalid format\")\n",
    "\n",
    "    def attribute_summary(df):\n",
    "        print(f\"Available columns: {list(df.columns)}\")\n",
    "        attrs = input(\"Enter at least two attributes separated by comma: \").split(',')\n",
    "        attrs = [a.strip() for a in attrs]\n",
    "\n",
    "        if len(attrs) < 2:\n",
    "            print(\"Select at least two attributes.\")\n",
    "            return\n",
    "\n",
    "        missing_attrs = [a for a in attrs if a not in df.columns]\n",
    "        if missing_attrs:\n",
    "            print(f\"Attributes not found: {missing_attrs}\")\n",
    "            return\n",
    "\n",
    "        summary = df[attrs].describe()\n",
    "        print(summary)\n",
    "\n",
    "    def scatter_plot(df):\n",
    "        print(f\"Available columns: {list(df.columns)}\")\n",
    "        attrs = input(\"Enter two attributes for scatter plot separated by comma: \").split(',')\n",
    "        attrs = [a.strip() for a in attrs]\n",
    "\n",
    "        if len(attrs) != 2:\n",
    "            print(\"Select exactly two attributes.\")\n",
    "            return\n",
    "\n",
    "        for a in attrs:\n",
    "            if a not in df.columns:\n",
    "                print(f\"Attribute {a} not found.\")\n",
    "                return\n",
    "            if not pd.api.types.is_numeric_dtype(df[a]):\n",
    "                print(f\"Attribute {a} is not numeric.\")\n",
    "                return\n",
    "\n",
    "        plt.scatter(df[attrs[0]], df[attrs[1]], alpha=0.6)\n",
    "        plt.xlabel(attrs[0])\n",
    "        plt.ylabel(attrs[1])\n",
    "        plt.title(f'Scatter plot: {attrs[0]} vs {attrs[1]}')\n",
    "        plt.show()\n",
    "\n",
    "    def missing_values_report(df):\n",
    "        print(\"Missing values percentage per attribute:\")\n",
    "        print(df.isna().mean() * 100)\n",
    "        print(\"Missing values percentage per patient:\")\n",
    "        print(df.isna().mean(axis=1) * 100)\n",
    "\n",
    "    def remove_missing_data(df):\n",
    "        thresh_input = input(\"Enter maximum number or percentage (e.g. 10 or 10%) missing attributes allowed per patient: \").strip()\n",
    "        if thresh_input.endswith('%'):\n",
    "            try:\n",
    "                percent = float(thresh_input[:-1])\n",
    "                max_missing = int(df.shape[1] * percent / 100)\n",
    "            except ValueError:\n",
    "                print(\"Invalid percentage.\")\n",
    "                return df\n",
    "        else:\n",
    "            try:\n",
    "                max_missing = int(thresh_input)\n",
    "            except ValueError:\n",
    "                print(\"Invalid number.\")\n",
    "                return df\n",
    "\n",
    "        patient_missing = df.isna().sum(axis=1)\n",
    "        filtered_df = df[patient_missing <= max_missing]\n",
    "        removed = df.shape[0] - filtered_df.shape[0]\n",
    "        print(f\"Removed {removed} samples with missing attributes exceeding threshold.\")\n",
    "        return filtered_df\n",
    "\n",
    "    # Call workflow\n",
    "    export_data(merged_df)\n",
    "    attribute_summary(merged_df)\n",
    "    scatter_plot(merged_df)\n",
    "    missing_values_report(merged_df)\n",
    "    filtered_df = remove_missing_data(merged_df)\n",
    "    export_data(filtered_df)\n",
    "\n",
    "clean_and_process_data()\n"
   ]
  },
  {
   "cell_type": "code",
   "execution_count": null,
   "id": "50833956-6213-4713-8f01-0efa08f7bcb9",
   "metadata": {},
   "outputs": [],
   "source": []
  }
 ],
 "metadata": {
  "kernelspec": {
   "display_name": "Python [conda env:base] *",
   "language": "python",
   "name": "conda-base-py"
  },
  "language_info": {
   "codemirror_mode": {
    "name": "ipython",
    "version": 3
   },
   "file_extension": ".py",
   "mimetype": "text/x-python",
   "name": "python",
   "nbconvert_exporter": "python",
   "pygments_lexer": "ipython3",
   "version": "3.12.9"
  }
 },
 "nbformat": 4,
 "nbformat_minor": 5
}
